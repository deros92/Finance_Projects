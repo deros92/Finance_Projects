{
 "cells": [
  {
   "cell_type": "code",
   "execution_count": 14,
   "id": "4b42cf33",
   "metadata": {},
   "outputs": [],
   "source": [
    "# import Python libraries\n",
    "import yfinance as yf\n",
    "import pandas as pd\n",
    "import numpy as np\n",
    "from datetime import datetime\n",
    "from datetime import timedelta\n",
    "from datetime import date\n",
    "from datetime import timedelta\n",
    "import os\n",
    "import time\n",
    "\n",
    "import warnings\n",
    "warnings.filterwarnings('ignore')"
   ]
  },
  {
   "cell_type": "code",
   "execution_count": 3,
   "id": "cd455988",
   "metadata": {},
   "outputs": [],
   "source": [
    "# Today's date\n",
    "today = date.today()\n",
    "# dd/mm/YY\n",
    "d1 = today.strftime(\"%m_%d_%Y\")\n",
    "\n",
    "# 40 FTSEMIB companies\n",
    "companies_dict={\n",
    "                \"A2A.MI\":\"A2A\",\"AMP.MI\":\"AMPLIFON\",\"ATL.MI\":\"ATLANTIA\",\n",
    "                \"AZM.MI\":\"AZIMUT\",\"BGN.MI\":\"BANCA GENERALI\", \"BMED.MI\":\"BANCA MEDIOLANUM\",\n",
    "                \"BAMI.MI\":\"BANCO BPM\",\"BPE.MI\":\"BPER BANCA\",\n",
    "                \"BZU.MI\":\"BUZZI UNICEM\",\"CPR.MI\":\"CAMPARI\",\"CNHI.MI\":\"CNH INDUSTRIAL\",\"DIA.MI\":\"DIASORIN\",\n",
    "                \"ENEL.MI\":\"ENEL\",\"ENI.MI\":\"ENI\",\"EXO.MI\":\"EXOR\",\n",
    "                \"RACE.MI\":\"FERRARI\",\"FBK.MI\":\"FINECO\",\"G.MI\":\"GENERALI ASSICURAZIONI\",\n",
    "                \"HER.MI\":\"HERA\", \"IP.MI\":\"INTERPUMP GROUP\",\n",
    "                \"ISP.MI\":\"INTESA SAN PAOLO\", \"INW.MI\":\"INWIT\", \"IG.MI\":\"ITALGAS\",\n",
    "                \"LDO.MI\":\"LEONARDO\",\"MB.MI\":\"MEDIOBANCA\",\"MONC.MI\":\"MONCLER\",\"NEXI.MI\":\"NEXI\", \n",
    "                \"PIRC.MI\":\"PIRELLI\",\"PST.MI\":\"POSTE ITALIANE\",\n",
    "                \"PRY.MI\":\"PRYSMIAN\",\"REC.MI\":\"RECORDATI\",\"SPM.MI\":\"SAIPEM\",\"SRG.MI\":\"SNAM\",\n",
    "                \"STLA.MI\":\"STELLANTIS\", \"STM.MI\":\"STM\",\"TIT.MI\":\"TELECOM\",\n",
    "                \"TEN.MI\":\"TENARIS\",\"TRN.MI\":\"TERNA\", \"UCG.MI\":\"UNICREDIT\",\"UNI.MI\":\"UNIPOL\"\n",
    "}\n"
   ]
  },
  {
   "cell_type": "code",
   "execution_count": 81,
   "id": "c46054a2",
   "metadata": {
    "scrolled": true
   },
   "outputs": [
    {
     "data": {
      "text/plain": [
       "\"time_ = '09:00:00'\\ntimeList = '00:05:00'\\ncount = 0\\nmysum = 0\\nwhile str(mysum) != '17:30:00':\\n    if count<1:\\n        td = timedelta(hours=int(time_.split(':')[0]), minutes=int(time_.split(':')[1]), seconds=int(time_.split(':')[2]))\\n        d = timedelta(hours=int(timeList.split(':')[0]), minutes=int(timeList.split(':')[1]))\\n        mysum = td + d\\n    else:\\n        d = timedelta(hours=int(timeList.split(':')[0]), minutes=int(timeList.split(':')[1]))\\n        mysum = td + d\\n    td = mysum\\n    count+=1\\n    print(str(mysum))\""
      ]
     },
     "execution_count": 81,
     "metadata": {},
     "output_type": "execute_result"
    }
   ],
   "source": [
    "\"\"\"time_ = '09:00:00'\n",
    "timeList = '00:05:00'\n",
    "count = 0\n",
    "mysum = 0\n",
    "while str(mysum) != '17:30:00':\n",
    "    if count<1:\n",
    "        td = timedelta(hours=int(time_.split(':')[0]), minutes=int(time_.split(':')[1]), seconds=int(time_.split(':')[2]))\n",
    "        d = timedelta(hours=int(timeList.split(':')[0]), minutes=int(timeList.split(':')[1]))\n",
    "        mysum = td + d\n",
    "    else:\n",
    "        d = timedelta(hours=int(timeList.split(':')[0]), minutes=int(timeList.split(':')[1]))\n",
    "        mysum = td + d\n",
    "    td = mysum\n",
    "    count+=1\n",
    "    print(str(mysum))\"\"\""
   ]
  },
  {
   "cell_type": "code",
   "execution_count": 82,
   "id": "86bdffd0",
   "metadata": {
    "scrolled": true
   },
   "outputs": [],
   "source": [
    "time_ = '09:00'\n",
    "timeList = '00:05'\n",
    "count = 0\n",
    "hours_list = []\n",
    "mysum = 0\n",
    "while str(mysum) != '17:30:00':\n",
    "    if count<1:\n",
    "        td = timedelta(hours=int(time_.split(':')[0]), minutes=int(time_.split(':')[1]))\n",
    "        d = timedelta(hours=int(timeList.split(':')[0]), minutes=int(timeList.split(':')[1]))\n",
    "        mysum = td + d\n",
    "    else:\n",
    "        d = timedelta(hours=int(timeList.split(':')[0]), minutes=int(timeList.split(':')[1]))\n",
    "        mysum = td + d\n",
    "    td = mysum\n",
    "    count+=1\n",
    "    hours_list.append('{}:{}'.format(str(mysum).split(':')[0], str(mysum).split(':')[1]))"
   ]
  },
  {
   "cell_type": "code",
   "execution_count": null,
   "id": "55a8c29c",
   "metadata": {},
   "outputs": [],
   "source": []
  },
  {
   "cell_type": "code",
   "execution_count": null,
   "id": "1972ab85",
   "metadata": {},
   "outputs": [],
   "source": []
  },
  {
   "cell_type": "code",
   "execution_count": null,
   "id": "4fe030dc",
   "metadata": {},
   "outputs": [],
   "source": []
  },
  {
   "cell_type": "code",
   "execution_count": null,
   "id": "3788ffa4",
   "metadata": {},
   "outputs": [],
   "source": []
  },
  {
   "cell_type": "code",
   "execution_count": null,
   "id": "6d0b6d31",
   "metadata": {},
   "outputs": [],
   "source": []
  },
  {
   "cell_type": "code",
   "execution_count": null,
   "id": "e6ef09ce",
   "metadata": {},
   "outputs": [],
   "source": []
  },
  {
   "cell_type": "code",
   "execution_count": null,
   "id": "d9107208",
   "metadata": {},
   "outputs": [],
   "source": []
  },
  {
   "cell_type": "code",
   "execution_count": null,
   "id": "f88f2b6f",
   "metadata": {},
   "outputs": [],
   "source": []
  },
  {
   "cell_type": "code",
   "execution_count": null,
   "id": "2ef79704",
   "metadata": {},
   "outputs": [],
   "source": []
  },
  {
   "cell_type": "code",
   "execution_count": null,
   "id": "beaefc51",
   "metadata": {},
   "outputs": [],
   "source": []
  },
  {
   "cell_type": "code",
   "execution_count": null,
   "id": "e52f369b",
   "metadata": {},
   "outputs": [],
   "source": []
  },
  {
   "cell_type": "code",
   "execution_count": null,
   "id": "b06d5fc9",
   "metadata": {},
   "outputs": [],
   "source": []
  },
  {
   "cell_type": "code",
   "execution_count": null,
   "id": "612565e4",
   "metadata": {},
   "outputs": [],
   "source": []
  }
 ],
 "metadata": {
  "kernelspec": {
   "display_name": "python:finance",
   "language": "python",
   "name": "finance"
  },
  "language_info": {
   "codemirror_mode": {
    "name": "ipython",
    "version": 3
   },
   "file_extension": ".py",
   "mimetype": "text/x-python",
   "name": "python",
   "nbconvert_exporter": "python",
   "pygments_lexer": "ipython3",
   "version": "3.8.5"
  }
 },
 "nbformat": 4,
 "nbformat_minor": 5
}
